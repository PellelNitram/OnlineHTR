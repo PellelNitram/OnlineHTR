{
 "cells": [
  {
   "cell_type": "markdown",
   "metadata": {},
   "source": [
    "# Inference experiments"
   ]
  },
  {
   "cell_type": "code",
   "execution_count": 1,
   "metadata": {},
   "outputs": [],
   "source": [
    "%load_ext autoreload\n",
    "%autoreload 2"
   ]
  },
  {
   "cell_type": "code",
   "execution_count": 2,
   "metadata": {},
   "outputs": [],
   "source": [
    "from pathlib import Path\n",
    "\n",
    "import numpy as np\n",
    "import pandas as pd\n",
    "import torch\n",
    "from torchmetrics.functional.text import word_error_rate\n",
    "from torchmetrics.functional.text import char_error_rate\n",
    "import matplotlib.pyplot as plt\n",
    "\n",
    "from src.models.carbune_module import CarbuneLitModule2\n",
    "from src.models.carbune_module import LitModule1\n",
    "from src.models.components.carbune2020_net import Carbune2020NetAttempt1\n",
    "from src.utils.io import load_alphabet\n",
    "from src.data.tokenisers import AlphabetMapper\n",
    "from src.data.online_handwriting_datamodule import IAMOnDBDataModule"
   ]
  },
  {
   "cell_type": "markdown",
   "metadata": {},
   "source": [
    "TODOs:\n",
    "\n",
    "4. Then load IAMonDB dataset and do inference. Consider using `Trainer` instead of DIY approach of doing inference. That's b/c it's easier and will not be seen in the promo video anyways.\n",
    "4. Then run full training to get `checkpoint` data from there to play around.\n",
    "4. Then load handwritten X++pagewise dataset and do inference on them\n",
    "4. Then look for method to draw stroke in Jupyter Notebook.\n",
    "\n",
    "*Note:* Make sure that I do correct pre-processing!\n",
    "\n",
    "---\n",
    "\n",
    "TODO:\n",
    "- Remove other attemtps to open checkpoint\n",
    "- Check if I am good to ignore CTCDecoder indeed\n",
    "- tidy up code here\n",
    "- try to do inference w/ 'iam_SimpleNormalise_xyn' model!\n",
    "\n",
    "- OTHER: THINK ABOUT BEAM DECODER!\n",
    "\n",
    "---\n",
    "\n",
    "- Use predict step from PL instead?"
   ]
  },
  {
   "cell_type": "code",
   "execution_count": 3,
   "metadata": {},
   "outputs": [
    {
     "name": "stderr",
     "output_type": "stream",
     "text": [
      "/localdisk/s1691089/venvs/carbune2020/lib/python3.10/site-packages/lightning/pytorch/utilities/parsing.py:198: Attribute 'decoder' is an instance of `nn.Module` and is already saved during checkpointing. It is recommended to ignore them using `self.save_hyperparameters(ignore=['decoder'])`.\n"
     ]
    },
    {
     "data": {
      "text/plain": [
       "LitModule1(\n",
       "  (criterion): CTCLoss()\n",
       "  (log_softmax): LogSoftmax(dim=2)\n",
       "  (lstm_stack): LSTM(3, 64, num_layers=3, bidirectional=True)\n",
       "  (linear): Linear(in_features=128, out_features=82, bias=True)\n",
       ")"
      ]
     },
     "execution_count": 3,
     "metadata": {},
     "output_type": "execute_result"
    }
   ],
   "source": [
    "BASE_PATH = Path('../logs/train/multiruns/2024-04-07_13-03-01/0')\n",
    "CHECKPOINT_PATH = BASE_PATH / 'checkpoints/epoch000649.ckpt'\n",
    "\n",
    "model = LitModule1.load_from_checkpoint(CHECKPOINT_PATH)\n",
    "\n",
    "model.eval()"
   ]
  },
  {
   "cell_type": "code",
   "execution_count": 4,
   "metadata": {},
   "outputs": [
    {
     "data": {
      "text/plain": [
       "['epoch',\n",
       " 'global_step',\n",
       " 'pytorch-lightning_version',\n",
       " 'state_dict',\n",
       " 'loops',\n",
       " 'callbacks',\n",
       " 'optimizer_states',\n",
       " 'lr_schedulers',\n",
       " 'hparams_name',\n",
       " 'hyper_parameters',\n",
       " 'datamodule_hparams_name',\n",
       " 'datamodule_hyper_parameters']"
      ]
     },
     "execution_count": 4,
     "metadata": {},
     "output_type": "execute_result"
    }
   ],
   "source": [
    "checkpoint = torch.load(CHECKPOINT_PATH, map_location=lambda storage, loc: storage)\n",
    "list(checkpoint.keys())"
   ]
  },
  {
   "cell_type": "code",
   "execution_count": 5,
   "metadata": {},
   "outputs": [],
   "source": [
    "alphabet = load_alphabet(BASE_PATH / 'alphabet.json')\n",
    "alphabet_mapper = AlphabetMapper( alphabet )\n",
    "decoder = checkpoint['hyper_parameters']['decoder']"
   ]
  },
  {
   "cell_type": "markdown",
   "metadata": {},
   "source": [
    "### Load data: From IAMOnDB"
   ]
  },
  {
   "cell_type": "code",
   "execution_count": 6,
   "metadata": {},
   "outputs": [],
   "source": [
    "dm = IAMOnDBDataModule(\n",
    "    '../data/datasets/IAM-OnDB',\n",
    "    batch_size=64,\n",
    "    train_val_test_split=[0.8, 0.2, 0],\n",
    "    num_workers=4,\n",
    "    pin_memory=True,\n",
    "    # limit=200,\n",
    "    limit=-1,\n",
    "    transform='iam_SimpleNormalise_xyn',\n",
    ")\n",
    "dm.setup()\n",
    "dl_val = dm.val_dataloader()\n",
    "dl_train = dm.train_dataloader()"
   ]
  },
  {
   "cell_type": "markdown",
   "metadata": {},
   "source": [
    "### Do inference: IAMOnDB"
   ]
  },
  {
   "cell_type": "code",
   "execution_count": null,
   "metadata": {},
   "outputs": [],
   "source": [
    "df_data = {\n",
    "    'name': [],\n",
    "    'type': [],\n",
    "    'value': [],\n",
    "}\n",
    "\n",
    "for name, dloader in { 'train': dl_train, 'val': dl_val }.items():\n",
    "    for sample_batched in dloader:\n",
    "        batch = sample_batched # Just a shortcut\n",
    "\n",
    "        log_softmax = model(sample_batched['ink'].to('cuda'))\n",
    "\n",
    "        decoded_texts = decoder(log_softmax, alphabet_mapper)\n",
    "\n",
    "        # TODO: Put this in function to use both here and in model training -> or just use underlying true data\n",
    "        # TODO: Could be pre-computed (using list0 in batch to avoid endless recomputation\n",
    "        labels = []\n",
    "        for i_batch in range(log_softmax.shape[1]):\n",
    "            label_length = batch['label_lengths'][i_batch]\n",
    "            label = batch['label'][i_batch, :label_length]\n",
    "            label = [ alphabet_mapper.index_to_character(c) for c in label ]\n",
    "            label = \"\".join(label)\n",
    "            labels.append(label)\n",
    "\n",
    "        cer = char_error_rate(preds=decoded_texts, target=labels)\n",
    "        wer = word_error_rate(preds=decoded_texts, target=labels)\n",
    "\n",
    "        df_data['name'].append(name)\n",
    "        df_data['type'].append('cer')\n",
    "        df_data['value'].append(cer.item())\n",
    "\n",
    "        df_data['name'].append(name)\n",
    "        df_data['type'].append('wer')\n",
    "        df_data['value'].append(wer.item())\n",
    "\n",
    "df = pd.DataFrame.from_dict(df_data)"
   ]
  },
  {
   "cell_type": "code",
   "execution_count": null,
   "metadata": {},
   "outputs": [
    {
     "data": {
      "text/html": [
       "<div>\n",
       "<style scoped>\n",
       "    .dataframe tbody tr th:only-of-type {\n",
       "        vertical-align: middle;\n",
       "    }\n",
       "\n",
       "    .dataframe tbody tr th {\n",
       "        vertical-align: top;\n",
       "    }\n",
       "\n",
       "    .dataframe thead th {\n",
       "        text-align: right;\n",
       "    }\n",
       "</style>\n",
       "<table border=\"1\" class=\"dataframe\">\n",
       "  <thead>\n",
       "    <tr style=\"text-align: right;\">\n",
       "      <th></th>\n",
       "      <th></th>\n",
       "      <th>value</th>\n",
       "    </tr>\n",
       "    <tr>\n",
       "      <th>name</th>\n",
       "      <th>type</th>\n",
       "      <th></th>\n",
       "    </tr>\n",
       "  </thead>\n",
       "  <tbody>\n",
       "    <tr>\n",
       "      <th rowspan=\"2\" valign=\"top\">train</th>\n",
       "      <th>cer</th>\n",
       "      <td>0.052492</td>\n",
       "    </tr>\n",
       "    <tr>\n",
       "      <th>wer</th>\n",
       "      <td>0.235398</td>\n",
       "    </tr>\n",
       "    <tr>\n",
       "      <th rowspan=\"2\" valign=\"top\">val</th>\n",
       "      <th>cer</th>\n",
       "      <td>0.079784</td>\n",
       "    </tr>\n",
       "    <tr>\n",
       "      <th>wer</th>\n",
       "      <td>0.316895</td>\n",
       "    </tr>\n",
       "  </tbody>\n",
       "</table>\n",
       "</div>"
      ],
      "text/plain": [
       "               value\n",
       "name  type          \n",
       "train cer   0.052492\n",
       "      wer   0.235398\n",
       "val   cer   0.079784\n",
       "      wer   0.316895"
      ]
     },
     "execution_count": 8,
     "metadata": {},
     "output_type": "execute_result"
    }
   ],
   "source": [
    "df.groupby(['name', 'type']).mean()"
   ]
  },
  {
   "cell_type": "markdown",
   "metadata": {},
   "source": [
    "Reloading seems to work!\n",
    "\n",
    "Strangely, the `train` values change (both cer and wer) when re-executing but not the `val` values. Question: also when re-executing the cell?"
   ]
  },
  {
   "cell_type": "markdown",
   "metadata": {},
   "source": [
    "### Load data: From XournalPagewise"
   ]
  },
  {
   "cell_type": "code",
   "execution_count": null,
   "metadata": {},
   "outputs": [
    {
     "name": "stderr",
     "output_type": "stream",
     "text": [
      "/localdisk/s1691089/venvs/carbune2020/lib/python3.10/site-packages/torch/utils/data/dataset.py:414: UserWarning: Length of split at index 1 is 0. This might result in an empty dataset.\n",
      "  warnings.warn(f\"Length of split at index {i} is 0. \"\n",
      "/localdisk/s1691089/venvs/carbune2020/lib/python3.10/site-packages/torch/utils/data/dataset.py:414: UserWarning: Length of split at index 2 is 0. This might result in an empty dataset.\n",
      "  warnings.warn(f\"Length of split at index {i} is 0. \"\n"
     ]
    }
   ],
   "source": [
    "dm_xp = IAMOnDBDataModule(\n",
    "    '../data/datasets/2024-02-16-xournal_dataset.xoj',\n",
    "    batch_size=64,\n",
    "    train_val_test_split=[1.0, 0.0, 0],\n",
    "    num_workers=4,\n",
    "    pin_memory=True,\n",
    "    # limit=200,\n",
    "    limit=-1,\n",
    "    transform='XournalPagewise_SimpleNormalise_xyn',\n",
    ")\n",
    "dm_xp.setup()\n",
    "dl_val_xp = dm_xp.val_dataloader()\n",
    "dl_train_xp = dm_xp.train_dataloader()"
   ]
  },
  {
   "cell_type": "markdown",
   "metadata": {},
   "source": [
    "### Do inference: XournalPagewise"
   ]
  },
  {
   "cell_type": "code",
   "execution_count": null,
   "metadata": {},
   "outputs": [],
   "source": [
    "df_data = {\n",
    "    'name': [],\n",
    "    'type': [],\n",
    "    'value': [],\n",
    "}\n",
    "\n",
    "for name, dloader in { 'train': dl_train_xp, 'val': dl_val_xp }.items():\n",
    "    for sample_batched in dloader:\n",
    "        batch = sample_batched # Just a shortcut\n",
    "\n",
    "        log_softmax = model(sample_batched['ink'].to('cuda'))\n",
    "\n",
    "        decoded_texts = decoder(log_softmax, alphabet_mapper)\n",
    "\n",
    "        # TODO: Put this in function to use both here and in model training -> or just use underlying true data\n",
    "        # TODO: Could be pre-computed (using list0 in batch to avoid endless recomputation\n",
    "        labels = []\n",
    "        for i_batch in range(log_softmax.shape[1]):\n",
    "            label_length = batch['label_lengths'][i_batch]\n",
    "            label = batch['label'][i_batch, :label_length]\n",
    "            label = [ alphabet_mapper.index_to_character(c) for c in label ]\n",
    "            label = \"\".join(label)\n",
    "            labels.append(label)\n",
    "\n",
    "        cer = char_error_rate(preds=decoded_texts, target=labels)\n",
    "        wer = word_error_rate(preds=decoded_texts, target=labels)\n",
    "\n",
    "        df_data['name'].append(name)\n",
    "        df_data['type'].append('cer')\n",
    "        df_data['value'].append(cer.item())\n",
    "\n",
    "        df_data['name'].append(name)\n",
    "        df_data['type'].append('wer')\n",
    "        df_data['value'].append(wer.item())\n",
    "\n",
    "df = pd.DataFrame.from_dict(df_data)"
   ]
  },
  {
   "cell_type": "code",
   "execution_count": null,
   "metadata": {},
   "outputs": [
    {
     "data": {
      "text/html": [
       "<div>\n",
       "<style scoped>\n",
       "    .dataframe tbody tr th:only-of-type {\n",
       "        vertical-align: middle;\n",
       "    }\n",
       "\n",
       "    .dataframe tbody tr th {\n",
       "        vertical-align: top;\n",
       "    }\n",
       "\n",
       "    .dataframe thead th {\n",
       "        text-align: right;\n",
       "    }\n",
       "</style>\n",
       "<table border=\"1\" class=\"dataframe\">\n",
       "  <thead>\n",
       "    <tr style=\"text-align: right;\">\n",
       "      <th></th>\n",
       "      <th></th>\n",
       "      <th>value</th>\n",
       "    </tr>\n",
       "    <tr>\n",
       "      <th>name</th>\n",
       "      <th>type</th>\n",
       "      <th></th>\n",
       "    </tr>\n",
       "  </thead>\n",
       "  <tbody>\n",
       "    <tr>\n",
       "      <th rowspan=\"2\" valign=\"top\">train</th>\n",
       "      <th>cer</th>\n",
       "      <td>1.038462</td>\n",
       "    </tr>\n",
       "    <tr>\n",
       "      <th>wer</th>\n",
       "      <td>1.400000</td>\n",
       "    </tr>\n",
       "  </tbody>\n",
       "</table>\n",
       "</div>"
      ],
      "text/plain": [
       "               value\n",
       "name  type          \n",
       "train cer   1.038462\n",
       "      wer   1.400000"
      ]
     },
     "execution_count": 11,
     "metadata": {},
     "output_type": "execute_result"
    }
   ],
   "source": [
    "df.groupby(['name', 'type']).mean()"
   ]
  },
  {
   "cell_type": "markdown",
   "metadata": {},
   "source": [
    "Why is this not working?!"
   ]
  },
  {
   "cell_type": "markdown",
   "metadata": {},
   "source": [
    "## Hypothesis: The two datasets are very different and hence the performance on X++ is so bad"
   ]
  },
  {
   "cell_type": "markdown",
   "metadata": {},
   "source": [
    "Investigate the lengths of the differences:"
   ]
  },
  {
   "cell_type": "code",
   "execution_count": null,
   "metadata": {},
   "outputs": [],
   "source": [
    "def get_segment_lengths(dataloaders: list) -> list:\n",
    "    results = []\n",
    "\n",
    "    for dataloader in dataloaders:\n",
    "        for sample in dataloader:\n",
    "            batch_size = sample['ink'].shape[1]\n",
    "            for i_sample_in_batch in range(batch_size):\n",
    "                length = sample['ink_lengths'][i_sample_in_batch]\n",
    "                dx, dy = sample['ink'][:length, i_sample_in_batch, [0, 1]].T\n",
    "                segment_lengths = np.sqrt((dx**2 + dy**2))\n",
    "                results += segment_lengths.tolist()\n",
    "\n",
    "    return np.array(results)"
   ]
  },
  {
   "cell_type": "code",
   "execution_count": null,
   "metadata": {},
   "outputs": [
    {
     "data": {
      "text/plain": [
       "(7651716, 1771)"
      ]
     },
     "execution_count": 94,
     "metadata": {},
     "output_type": "execute_result"
    }
   ],
   "source": [
    "segment_lengths_IAM = get_segment_lengths([dl_train, dl_val])\n",
    "segment_lengths_Xpp = get_segment_lengths([dl_train_xp, dl_val_xp])\n",
    "\n",
    "len(segment_lengths_IAM), len(segment_lengths_Xpp)"
   ]
  },
  {
   "cell_type": "code",
   "execution_count": null,
   "metadata": {},
   "outputs": [
    {
     "name": "stdout",
     "output_type": "stream",
     "text": [
      "0.03075740663339986 0.0582288076165338 0.8580945730209351 0.02013082057237625 0.10204081982374191\n",
      "0.04772649997899526 0.08719070655718524 6.154927730560303 0.03245917335152626 0.3021262019872666\n"
     ]
    }
   ],
   "source": [
    "for sl in [segment_lengths_Xpp, segment_lengths_IAM]:\n",
    "    print(sl.mean(), sl.std(), sl.max(), np.quantile(sl, 0.5), np.quantile(sl, 0.98))"
   ]
  },
  {
   "cell_type": "code",
   "execution_count": null,
   "metadata": {},
   "outputs": [
    {
     "name": "stdout",
     "output_type": "stream",
     "text": [
      "0.02406824852955798 0.016340708112571444 0.10204081982374191 0.02013082057237625 0.06732454672455779\n",
      "0.037394472426955434 0.0322870289407739 0.3021261394023895 0.03190260007977486 0.11745930761098834\n"
     ]
    }
   ],
   "source": [
    "segment_lengths_IAM_filtered = segment_lengths_IAM[ segment_lengths_IAM <= np.quantile(segment_lengths_IAM, 0.98) ]\n",
    "segment_lengths_Xpp_filtered = segment_lengths_Xpp[ segment_lengths_Xpp <= np.quantile(segment_lengths_Xpp, 0.98) ]\n",
    "\n",
    "for sl in [segment_lengths_Xpp_filtered, segment_lengths_IAM_filtered]:\n",
    "    print(sl.mean(), sl.std(), sl.max(), np.quantile(sl, 0.5), np.quantile(sl, 0.98))"
   ]
  },
  {
   "cell_type": "code",
   "execution_count": null,
   "metadata": {},
   "outputs": [
    {
     "data": {
      "image/png": "[encoded data removed]",
      "text/plain": [
       "<Figure size 640x480 with 1 Axes>"
      ]
     },
     "metadata": {},
     "output_type": "display_data"
    }
   ],
   "source": [
    "plt.figure()\n",
    "plt.violinplot([segment_lengths_IAM_filtered, segment_lengths_Xpp_filtered])\n",
    "plt.xticks(ticks=[1, 2], labels=['IAM filtered', 'Xpp filtered'])\n",
    "plt.show()"
   ]
  },
  {
   "cell_type": "markdown",
   "metadata": {},
   "source": [
    "The distributions do look quite different. This observation strenghtens my hypothesis that the segment lengths are just too different for the model to cope with."
   ]
  },
  {
   "cell_type": "markdown",
   "metadata": {},
   "source": [
    "TODO NEXT: Idea to check if the distributions are the problem:\n",
    "1. Check distributions of IAM and X++ after applying Carbune2020.\n",
    "2. Then train model on IAM with applied Carbune and then do inference w/ Xpp.\n",
    "\n",
    "AHHH, problem with that is that my X++ does not have time channel and that `Carbune2020` trafo depends on time :-(. Potential solutions:\n",
    "- maybe find way to capture my handwriting w/ time channel."
   ]
  },
  {
   "cell_type": "markdown",
   "metadata": {},
   "source": [
    "## Load and experiment w/ `Own_Dataset`"
   ]
  },
  {
   "cell_type": "code",
   "execution_count": 18,
   "metadata": {},
   "outputs": [],
   "source": [
    "from src.data.online_handwriting_datasets import Own_Dataset\n",
    "from src.data.online_handwriting_datasets import IAM_OnDB_Dataset"
   ]
  },
  {
   "cell_type": "code",
   "execution_count": 16,
   "metadata": {},
   "outputs": [],
   "source": [
    "o_ds = Own_Dataset(Path('../data/datasets/own_test_dataset'), transform=None)"
   ]
  },
  {
   "cell_type": "code",
   "execution_count": 19,
   "metadata": {},
   "outputs": [],
   "source": [
    "ds = IAM_OnDB_Dataset(Path('../data/datasets/IAM-OnDB'))"
   ]
  },
  {
   "cell_type": "markdown",
   "metadata": {},
   "source": [
    "Plot one sample to confirm that my own test dataset is using correct axes:\n",
    "(TODO: PUT THAT INTO A TEST!)"
   ]
  },
  {
   "cell_type": "code",
   "execution_count": 39,
   "metadata": {},
   "outputs": [
    {
     "data": {
      "image/png": "[encoded data removed]",
      "text/plain": [
       "<Figure size 640x480 with 2 Axes>"
      ]
     },
     "metadata": {},
     "output_type": "display_data"
    }
   ],
   "source": [
    "i_o_ds = 1\n",
    "i_iam = 32\n",
    "\n",
    "fig, axes = plt.subplots(2, 1)\n",
    "\n",
    "axes[0].scatter(o_ds[i_o_ds]['x'], o_ds[i_o_ds]['y'], c=o_ds[i_o_ds]['stroke_nr'], s=2)\n",
    "axes[1].scatter(ds[i_iam]['x'], ds[i_iam]['y'], c=ds[i_iam]['stroke_nr'], s=2)\n",
    "\n",
    "axes[0].set_title(o_ds[i_o_ds]['label'])\n",
    "axes[1].set_title(ds[i_iam]['label'])\n",
    "\n",
    "for a in axes:\n",
    "    a.set_aspect('equal')\n",
    "\n",
    "plt.show()"
   ]
  },
  {
   "cell_type": "markdown",
   "metadata": {},
   "source": [
    "*Result*: My own dataset and `draw_and_store_sample.py` script saves the data correctly!"
   ]
  },
  {
   "cell_type": "markdown",
   "metadata": {},
   "source": [
    "TODO: Move this into a test using `plot_sample_to_image_file` and manual inspection."
   ]
  }
 ],
 "metadata": {
  "kernelspec": {
   "display_name": "Python 3",
   "language": "python",
   "name": "python3"
  },
  "language_info": {
   "codemirror_mode": {
    "name": "ipython",
    "version": 3
   },
   "file_extension": ".py",
   "mimetype": "text/x-python",
   "name": "python",
   "nbconvert_exporter": "python",
   "pygments_lexer": "ipython3",
   "version": "3.10.11"
  }
 },
 "nbformat": 4,
 "nbformat_minor": 2
}
