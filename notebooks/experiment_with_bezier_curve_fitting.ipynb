{
 "cells": [
  {
   "cell_type": "markdown",
   "metadata": {},
   "source": [
    "# Experiment with Bezier curve fitting"
   ]
  },
  {
   "cell_type": "markdown",
   "metadata": {},
   "source": [
    "This is a Python prototype that might be sufficient. If not, I will port it to C++ and create Python bindings (which I really want to do!).\n",
    "\n",
    "First, I will experiment w the IAM OnDB Dataset (untransformed sample) and then later with an example obtained from Xournal++."
   ]
  },
  {
   "cell_type": "code",
   "execution_count": 1,
   "metadata": {},
   "outputs": [],
   "source": [
    "%load_ext autoreload\n",
    "%autoreload 2"
   ]
  },
  {
   "cell_type": "code",
   "execution_count": 2,
   "metadata": {},
   "outputs": [],
   "source": [
    "from pathlib import Path\n",
    "\n",
    "import matplotlib.pyplot as plt\n",
    "import pandas as pd\n",
    "import numpy as np\n",
    "\n",
    "from src.data.online_handwriting_datasets import IAM_OnDB_Dataset"
   ]
  },
  {
   "cell_type": "markdown",
   "metadata": {},
   "source": [
    "## Helper functions\n",
    "\n",
    "These functions are experiments for now and will eventually be moved into the `src/` module."
   ]
  },
  {
   "cell_type": "code",
   "execution_count": 3,
   "metadata": {},
   "outputs": [],
   "source": [
    "# TODO"
   ]
  },
  {
   "cell_type": "markdown",
   "metadata": {},
   "source": [
    "## Load example data\n",
    "\n",
    "Example data here refers to a single sample that I can experiment with to fit to Bezier curves."
   ]
  },
  {
   "cell_type": "code",
   "execution_count": null,
   "metadata": {},
   "outputs": [],
   "source": [
    "PATH = Path('../data/datasets/IAM-OnDB') # Needs to be parameterised\n",
    "\n",
    "ds = IAM_OnDB_Dataset(path=PATH, transform=None, limit=100)"
   ]
  },
  {
   "cell_type": "markdown",
   "metadata": {},
   "source": [
    "Select a particular sample to focus on now:"
   ]
  },
  {
   "cell_type": "code",
   "execution_count": 5,
   "metadata": {},
   "outputs": [],
   "source": [
    "i_selected = 0\n",
    "\n",
    "sample = ds[i_selected]"
   ]
  },
  {
   "cell_type": "markdown",
   "metadata": {},
   "source": [
    "Plot the sample:"
   ]
  },
  {
   "cell_type": "code",
   "execution_count": null,
   "metadata": {},
   "outputs": [],
   "source": [
    "plt.figure()\n",
    "plt.scatter(sample['x'], sample['y'], c=sample['stroke_nr'], s=0.8, cmap='tab20')\n",
    "plt.title(sample['label'])\n",
    "plt.xlabel('x')\n",
    "plt.ylabel('y')\n",
    "plt.gca().set_aspect('equal')\n",
    "plt.show()"
   ]
  },
  {
   "cell_type": "markdown",
   "metadata": {},
   "source": [
    "## Optimise data structure for better experimentation\n",
    "\n",
    "First, I load the sample into `pandas`. Then, I groupby the sample w.r.t. `stroke_nr` and store the result in a simple list for now."
   ]
  },
  {
   "cell_type": "code",
   "execution_count": 7,
   "metadata": {},
   "outputs": [],
   "source": [
    "df = pd.DataFrame.from_dict({\n",
    "    'x': sample['x'],\n",
    "    'y': sample['y'],\n",
    "    't': sample['t'],\n",
    "    'stroke_nr': sample['stroke_nr'],\n",
    "})\n",
    "\n",
    "list_of_strokes = []\n",
    "\n",
    "for stroke_nr, df_grouped in df.groupby('stroke_nr'):\n",
    "    list_of_strokes.append({\n",
    "        'x': df_grouped['x'],\n",
    "        'y': df_grouped['y'],\n",
    "        't': df_grouped['t'],\n",
    "    })"
   ]
  },
  {
   "cell_type": "markdown",
   "metadata": {},
   "source": [
    "## Perform a simple 3rd order polynomial fit"
   ]
  },
  {
   "cell_type": "markdown",
   "metadata": {},
   "source": [
    "This is essentially a Bezier curve as those are 3rd order polynomials.\n",
    "\n",
    "First, just focus on $x$ and $y$. Later, check out $t$ as fit target."
   ]
  },
  {
   "cell_type": "code",
   "execution_count": null,
   "metadata": {},
   "outputs": [],
   "source": [
    "plt.figure()\n",
    "\n",
    "for i_stroke in range(len(list_of_strokes)):\n",
    "    \n",
    "    x = list_of_strokes[i_stroke]['x']\n",
    "    y = list_of_strokes[i_stroke]['y']\n",
    "    t = list_of_strokes[i_stroke]['t']\n",
    "    t_normalised = (t - t.min()) / (t.max() - t.min())\n",
    "    z_x = np.polyfit(x=t_normalised, y=x, deg=3)\n",
    "    z_y = np.polyfit(x=t_normalised, y=y, deg=3)\n",
    "    p_x = np.poly1d(z_x)\n",
    "    p_y = np.poly1d(z_y)\n",
    "\n",
    "    # TODO: Can be enabled but it gets messy\n",
    "    # plt.figure()\n",
    "    # plt.scatter(t_normalised, x, c='green', label='raw x')\n",
    "    # plt.scatter(t_normalised, y, c='black', label='raw y')\n",
    "    # plt.plot(t_normalised, p_x(t_normalised), c='blue', label='fit x')\n",
    "    # plt.plot(t_normalised, p_y(t_normalised), c='red', label='fit y')\n",
    "    # plt.xlabel('t_normalised')\n",
    "    # plt.legend()\n",
    "    # plt.show()\n",
    "\n",
    "    plt.scatter(x, y, s=0.8, c='black', label='raw' if i_stroke == 0 else None)\n",
    "    plt.scatter(p_x(t_normalised), p_y(t_normalised), s=0.8, c='red', label='fitted' if i_stroke == 0 else None)\n",
    "\n",
    "plt.xlabel('x')\n",
    "plt.ylabel('y')\n",
    "plt.gca().set_aspect('equal')\n",
    "plt.legend()\n",
    "plt.show()"
   ]
  },
  {
   "cell_type": "markdown",
   "metadata": {},
   "source": [
    "## Understand [Carbune2020] fitting procedure\n",
    "\n",
    "I follow the procedure explained in section 2.1.2 of [Carbune2020].\n",
    "\n",
    "First, normalise size of entire ink such that y values are within [0, 1]:"
   ]
  },
  {
   "cell_type": "code",
   "execution_count": null,
   "metadata": {},
   "outputs": [],
   "source": [
    "df['y_normalised'] = df['y'] - df['y'].min()\n",
    "scale_factor = df['y_normalised'].max()\n",
    "df['y_normalised'] = df['y_normalised'] / scale_factor\n",
    "df['x_normalised'] = df['x'] / scale_factor\n",
    "\n",
    "plt.figure()\n",
    "plt.scatter(df['x_normalised'], df['y_normalised'], s=0.3)\n",
    "plt.title('normalisation debugging')\n",
    "plt.gca().set_aspect('equal')\n",
    "plt.xlabel('x')\n",
    "plt.ylabel('y')\n",
    "plt.show()"
   ]
  },
  {
   "cell_type": "code",
   "execution_count": 29,
   "metadata": {},
   "outputs": [],
   "source": [
    "df['t_normalised'] = np.nan"
   ]
  },
  {
   "cell_type": "code",
   "execution_count": null,
   "metadata": {},
   "outputs": [],
   "source": [
    "for stroke_nr, df_grouped in df.groupby('stroke_nr'):\n",
    "    print(stroke_nr)"
   ]
  },
  {
   "cell_type": "code",
   "execution_count": null,
   "metadata": {},
   "outputs": [],
   "source": [
    "df_grouped"
   ]
  },
  {
   "cell_type": "code",
   "execution_count": null,
   "metadata": {},
   "outputs": [],
   "source": [
    "df['y_normalised'].max()"
   ]
  },
  {
   "cell_type": "markdown",
   "metadata": {},
   "source": [
    "I am unclear what they mean w/ \"We alternate between minimizing the SSE in Eq. (3) and finding the corresponding points si , until convergence.\".\n",
    "\n",
    "This is my understanding:"
   ]
  },
  {
   "cell_type": "code",
   "execution_count": 37,
   "metadata": {},
   "outputs": [],
   "source": [
    "# See here: https://mermaid.js.org/ecosystem/tutorials.html#jupyter-integration-with-mermaid-js\n",
    "\n",
    "import base64\n",
    "from IPython.display import Image, display\n",
    "import matplotlib.pyplot as plt\n",
    "\n",
    "def mm(graph):\n",
    "    graphbytes = graph.encode(\"utf8\")\n",
    "    base64_bytes = base64.urlsafe_b64encode(graphbytes)\n",
    "    base64_string = base64_bytes.decode(\"ascii\")\n",
    "    display(Image(url=\"https://mermaid.ink/img/\" + base64_string))"
   ]
  },
  {
   "cell_type": "code",
   "execution_count": null,
   "metadata": {},
   "outputs": [],
   "source": [
    "mm(\"\"\"\n",
    "graph LR;\n",
    "    A[Knowing s_i] --> B[Compute alpha, beta, gamma];\n",
    "    B --> C[Compute fitted x, y, t];\n",
    "    C --> D[Update s_i w Newton rule];\n",
    "    D --> A;\n",
    "    E[Pick initial s_i] --> A;\n",
    "    C --> F[Compute SSE];\n",
    "    G[HOW TO MIN SSE?!?!]\n",
    "\"\"\")"
   ]
  },
  {
   "cell_type": "markdown",
   "metadata": {},
   "source": [
    "How to constrain s_i in [0, 1]?"
   ]
  }
 ],
 "metadata": {
  "kernelspec": {
   "display_name": "carbune2020",
   "language": "python",
   "name": "python3"
  },
  "language_info": {
   "codemirror_mode": {
    "name": "ipython",
    "version": 3
   },
   "file_extension": ".py",
   "mimetype": "text/x-python",
   "name": "python",
   "nbconvert_exporter": "python",
   "pygments_lexer": "ipython3",
   "version": "3.10.11"
  }
 },
 "nbformat": 4,
 "nbformat_minor": 2
}
