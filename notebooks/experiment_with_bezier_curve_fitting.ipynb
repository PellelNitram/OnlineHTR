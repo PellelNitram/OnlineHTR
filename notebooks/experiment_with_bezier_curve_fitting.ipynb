{
 "cells": [
  {
   "cell_type": "markdown",
   "metadata": {},
   "source": [
    "# Experiment with Bezier curve fitting"
   ]
  },
  {
   "cell_type": "markdown",
   "metadata": {},
   "source": [
    "This is a Python prototype that might be sufficient. If not, I will port it to C++ and create Python bindings (which I really want to do!).\n",
    "\n",
    "First, I will experiment w the IAM OnDB Dataset (untransformed sample) and then later with an example obtained from Xournal++."
   ]
  },
  {
   "cell_type": "code",
   "execution_count": 3,
   "metadata": {},
   "outputs": [],
   "source": [
    "%load_ext autoreload\n",
    "%autoreload 2"
   ]
  },
  {
   "cell_type": "code",
   "execution_count": 4,
   "metadata": {},
   "outputs": [],
   "source": [
    "from pathlib import Path\n",
    "\n",
    "from src.data.online_handwriting_datasets import IAM_OnDB_Dataset"
   ]
  },
  {
   "cell_type": "markdown",
   "metadata": {},
   "source": [
    "## Helper functions\n",
    "\n",
    "These functions are experiments for now and will eventually be moved into the `src/` module."
   ]
  },
  {
   "cell_type": "code",
   "execution_count": null,
   "metadata": {},
   "outputs": [],
   "source": [
    "# TODO"
   ]
  },
  {
   "cell_type": "markdown",
   "metadata": {},
   "source": [
    "## Load example data\n",
    "\n",
    "Example data here refers to a single sample that I can experiment with to fit to Bezier curves."
   ]
  },
  {
   "cell_type": "code",
   "execution_count": null,
   "metadata": {},
   "outputs": [],
   "source": [
    "PATH = Path('../data/datasets/IAM-OnDB') # Needs to be parameterised\n",
    "\n",
    "ds = IAM_OnDB_Dataset(path=PATH, transform=None, limit=100)"
   ]
  },
  {
   "cell_type": "markdown",
   "metadata": {},
   "source": [
    "Select a particular sample to focus on now:"
   ]
  },
  {
   "cell_type": "code",
   "execution_count": 16,
   "metadata": {},
   "outputs": [],
   "source": [
    "i_selected = 0\n",
    "\n",
    "sample = ds[i_selected]"
   ]
  },
  {
   "cell_type": "markdown",
   "metadata": {},
   "source": [
    "Plot the sample:"
   ]
  },
  {
   "cell_type": "code",
   "execution_count": null,
   "metadata": {},
   "outputs": [],
   "source": [
    "import matplotlib.pyplot as plt\n",
    "\n",
    "\n",
    "plt.figure()\n",
    "plt.scatter(sample['x'], sample['y'], c=sample['stroke_nr'], s=0.8, cmap='tab20')\n",
    "plt.title(sample['label'])\n",
    "plt.xlabel('x')\n",
    "plt.ylabel('y')\n",
    "plt.gca().set_aspect('equal')\n",
    "plt.show()"
   ]
  },
  {
   "cell_type": "markdown",
   "metadata": {},
   "source": [
    "## Optimise data structure for better experimentation\n",
    "\n",
    "First, I load the sample into `pandas`. Then, I groupby the sample w.r.t. `stroke_nr` and store the result in a simple list for now."
   ]
  },
  {
   "cell_type": "code",
   "execution_count": 35,
   "metadata": {},
   "outputs": [],
   "source": [
    "import pandas as pd\n",
    "\n",
    "df = pd.DataFrame.from_dict({\n",
    "    'x': sample['x'],\n",
    "    'y': sample['y'],\n",
    "    't': sample['t'],\n",
    "    'stroke_nr': sample['stroke_nr'],\n",
    "})\n",
    "\n",
    "list_of_strokes = []\n",
    "\n",
    "for stroke_nr, df_grouped in df.groupby('stroke_nr'):\n",
    "    list_of_strokes.append({\n",
    "        'x': sample['x'],\n",
    "        'y': sample['y'],\n",
    "        't': sample['t'],\n",
    "    })"
   ]
  },
  {
   "cell_type": "markdown",
   "metadata": {},
   "source": [
    "## Perform a simple 3rd order polynomial fit"
   ]
  },
  {
   "cell_type": "code",
   "execution_count": 1,
   "metadata": {},
   "outputs": [],
   "source": [
    "# todo"
   ]
  },
  {
   "cell_type": "markdown",
   "metadata": {},
   "source": [
    "## Perform a simple Bezier curve fit"
   ]
  },
  {
   "cell_type": "code",
   "execution_count": null,
   "metadata": {},
   "outputs": [],
   "source": [
    "# todo"
   ]
  },
  {
   "cell_type": "markdown",
   "metadata": {},
   "source": [
    "## Understand [Carbune2020] fitting procedure\n",
    "\n",
    "TODO Continue here next!"
   ]
  }
 ],
 "metadata": {
  "kernelspec": {
   "display_name": "carbune2020",
   "language": "python",
   "name": "python3"
  },
  "language_info": {
   "codemirror_mode": {
    "name": "ipython",
    "version": 3
   },
   "file_extension": ".py",
   "mimetype": "text/x-python",
   "name": "python",
   "nbconvert_exporter": "python",
   "pygments_lexer": "ipython3",
   "version": "3.10.11"
  }
 },
 "nbformat": 4,
 "nbformat_minor": 2
}
