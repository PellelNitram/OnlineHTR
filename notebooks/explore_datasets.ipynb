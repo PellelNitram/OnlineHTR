{
 "cells": [
  {
   "cell_type": "markdown",
   "metadata": {},
   "source": [
    "# Explore datasets"
   ]
  },
  {
   "cell_type": "markdown",
   "metadata": {},
   "source": [
    "Things to explore:\n",
    "\n",
    "1. Influence of `Carbune2020` transform on $\\Delta x^2$\n",
    "2. Speeds used to write inks.\n",
    "\n",
    "Re 1:\n",
    "- Plot $\\Delta x^2$ distributions\n",
    "- w/ vs w/o `Carbune2020`\n",
    "- w/o: IAM, Own, X++pagewise\n",
    "- w/: only w/ t: IAM, Own\n",
    "\n",
    "Re 2:\n",
    "- Compute and plot $\\partial_t x$, i.e. speeds.\n",
    "- Only for datasets with time data: IAM and Own DS."
   ]
  }
 ],
 "metadata": {
  "kernelspec": {
   "display_name": "Python 3",
   "language": "python",
   "name": "python3"
  },
  "language_info": {
   "name": "python",
   "version": "3.10.11"
  }
 },
 "nbformat": 4,
 "nbformat_minor": 2
}
