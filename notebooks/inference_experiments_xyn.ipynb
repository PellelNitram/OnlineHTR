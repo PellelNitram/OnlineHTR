{
 "cells": [
  {
   "cell_type": "markdown",
   "metadata": {},
   "source": [
    "# Inference experiments `xyn`"
   ]
  },
  {
   "cell_type": "code",
   "execution_count": 1,
   "metadata": {},
   "outputs": [],
   "source": [
    "%load_ext autoreload\n",
    "%autoreload 2"
   ]
  },
  {
   "cell_type": "code",
   "execution_count": 2,
   "metadata": {},
   "outputs": [],
   "source": [
    "from pathlib import Path\n",
    "\n",
    "import numpy as np\n",
    "import pandas as pd\n",
    "import torch\n",
    "from torchmetrics.functional.text import word_error_rate\n",
    "from torchmetrics.functional.text import char_error_rate\n",
    "import matplotlib.pyplot as plt\n",
    "from torchvision.transforms import transforms\n",
    "from torch.utils.data import DataLoader\n",
    "\n",
    "from src.models.carbune_module import CarbuneLitModule2\n",
    "from src.models.carbune_module import LitModule1\n",
    "from src.models.components.carbune2020_net import Carbune2020NetAttempt1\n",
    "from src.utils.io import load_alphabet\n",
    "from src.data.tokenisers import AlphabetMapper\n",
    "from src.data.online_handwriting_datamodule import IAMOnDBDataModule\n",
    "from src.data.online_handwriting_datasets import XournalPagewiseDataset\n",
    "from src.data.online_handwriting_datasets import IAM_OnDB_Dataset\n",
    "from src.data.online_handwriting_datasets import get_alphabet_from_dataset\n",
    "from src.data.transforms import SimpleNormalise\n",
    "from src.data.transforms import DictToTensor\n",
    "from src.data.transforms import CharactersToIndices\n",
    "from src.data.collate_functions import my_collator"
   ]
  },
  {
   "cell_type": "code",
   "execution_count": 3,
   "metadata": {},
   "outputs": [
    {
     "name": "stderr",
     "output_type": "stream",
     "text": [
      "/localdisk/s1691089/venvs/carbune2020/lib/python3.10/site-packages/lightning/pytorch/utilities/parsing.py:198: Attribute 'decoder' is an instance of `nn.Module` and is already saved during checkpointing. It is recommended to ignore them using `self.save_hyperparameters(ignore=['decoder'])`.\n"
     ]
    },
    {
     "data": {
      "text/plain": [
       "LitModule1(\n",
       "  (criterion): CTCLoss()\n",
       "  (log_softmax): LogSoftmax(dim=2)\n",
       "  (lstm_stack): LSTM(3, 64, num_layers=3, bidirectional=True)\n",
       "  (linear): Linear(in_features=128, out_features=82, bias=True)\n",
       ")"
      ]
     },
     "execution_count": 3,
     "metadata": {},
     "output_type": "execute_result"
    }
   ],
   "source": [
    "BASE_PATH = Path('../logs/train/multiruns/2024-04-07_13-03-01/0')\n",
    "CHECKPOINT_PATH = BASE_PATH / 'checkpoints/epoch000649.ckpt'\n",
    "\n",
    "model = LitModule1.load_from_checkpoint(CHECKPOINT_PATH)\n",
    "\n",
    "model.eval()"
   ]
  },
  {
   "cell_type": "code",
   "execution_count": 4,
   "metadata": {},
   "outputs": [
    {
     "data": {
      "text/plain": [
       "['epoch',\n",
       " 'global_step',\n",
       " 'pytorch-lightning_version',\n",
       " 'state_dict',\n",
       " 'loops',\n",
       " 'callbacks',\n",
       " 'optimizer_states',\n",
       " 'lr_schedulers',\n",
       " 'hparams_name',\n",
       " 'hyper_parameters',\n",
       " 'datamodule_hparams_name',\n",
       " 'datamodule_hyper_parameters']"
      ]
     },
     "execution_count": 4,
     "metadata": {},
     "output_type": "execute_result"
    }
   ],
   "source": [
    "checkpoint = torch.load(CHECKPOINT_PATH, map_location=lambda storage, loc: storage)\n",
    "list(checkpoint.keys())"
   ]
  },
  {
   "cell_type": "code",
   "execution_count": 5,
   "metadata": {},
   "outputs": [],
   "source": [
    "alphabet = load_alphabet(BASE_PATH / 'alphabet.json')\n",
    "alphabet_mapper = AlphabetMapper( alphabet )\n",
    "decoder = checkpoint['hyper_parameters']['decoder']"
   ]
  },
  {
   "cell_type": "markdown",
   "metadata": {},
   "source": [
    "### Load data: From IAMOnDB"
   ]
  },
  {
   "cell_type": "code",
   "execution_count": 6,
   "metadata": {},
   "outputs": [
    {
     "name": "stderr",
     "output_type": "stream",
     "text": [
      "/localdisk/s1691089/venvs/carbune2020/lib/python3.10/site-packages/torch/utils/data/dataset.py:414: UserWarning: Length of split at index 2 is 0. This might result in an empty dataset.\n",
      "  warnings.warn(f\"Length of split at index {i} is 0. \"\n"
     ]
    }
   ],
   "source": [
    "dm = IAMOnDBDataModule(**checkpoint['datamodule_hyper_parameters']) # This ensures correct DataModule as it's\n",
    "                                                                    # consistent w/ checkpoint\n",
    "dm.setup()\n",
    "dl_val = dm.val_dataloader()\n",
    "dl_train = dm.train_dataloader()"
   ]
  },
  {
   "cell_type": "markdown",
   "metadata": {},
   "source": [
    "### Do inference on train and val datasets: IAMOnDB"
   ]
  },
  {
   "cell_type": "code",
   "execution_count": 7,
   "metadata": {},
   "outputs": [],
   "source": [
    "df_data = {\n",
    "    'name': [],\n",
    "    'type': [],\n",
    "    'value': [],\n",
    "}\n",
    "\n",
    "for name, dloader in { 'train': dl_train, 'val': dl_val }.items():\n",
    "    for sample_batched in dloader:\n",
    "        batch = sample_batched # Just a shortcut\n",
    "\n",
    "        with torch.no_grad():\n",
    "            log_softmax = model(sample_batched['ink'].to('cuda'))\n",
    "\n",
    "        decoded_texts = decoder(log_softmax, alphabet_mapper)\n",
    "\n",
    "        labels = batch['label_str']\n",
    "\n",
    "        cer = char_error_rate(preds=decoded_texts, target=labels)\n",
    "        wer = word_error_rate(preds=decoded_texts, target=labels)\n",
    "\n",
    "        df_data['name'].append(name)\n",
    "        df_data['type'].append('cer')\n",
    "        df_data['value'].append(cer.item())\n",
    "\n",
    "        df_data['name'].append(name)\n",
    "        df_data['type'].append('wer')\n",
    "        df_data['value'].append(wer.item())\n",
    "\n",
    "df = pd.DataFrame.from_dict(df_data)"
   ]
  },
  {
   "cell_type": "code",
   "execution_count": 8,
   "metadata": {},
   "outputs": [
    {
     "data": {
      "text/html": [
       "<div>\n",
       "<style scoped>\n",
       "    .dataframe tbody tr th:only-of-type {\n",
       "        vertical-align: middle;\n",
       "    }\n",
       "\n",
       "    .dataframe tbody tr th {\n",
       "        vertical-align: top;\n",
       "    }\n",
       "\n",
       "    .dataframe thead th {\n",
       "        text-align: right;\n",
       "    }\n",
       "</style>\n",
       "<table border=\"1\" class=\"dataframe\">\n",
       "  <thead>\n",
       "    <tr style=\"text-align: right;\">\n",
       "      <th></th>\n",
       "      <th></th>\n",
       "      <th>value</th>\n",
       "    </tr>\n",
       "    <tr>\n",
       "      <th>name</th>\n",
       "      <th>type</th>\n",
       "      <th></th>\n",
       "    </tr>\n",
       "  </thead>\n",
       "  <tbody>\n",
       "    <tr>\n",
       "      <th rowspan=\"2\" valign=\"top\">train</th>\n",
       "      <th>cer</th>\n",
       "      <td>0.052671</td>\n",
       "    </tr>\n",
       "    <tr>\n",
       "      <th>wer</th>\n",
       "      <td>0.235968</td>\n",
       "    </tr>\n",
       "    <tr>\n",
       "      <th rowspan=\"2\" valign=\"top\">val</th>\n",
       "      <th>cer</th>\n",
       "      <td>0.079784</td>\n",
       "    </tr>\n",
       "    <tr>\n",
       "      <th>wer</th>\n",
       "      <td>0.316895</td>\n",
       "    </tr>\n",
       "  </tbody>\n",
       "</table>\n",
       "</div>"
      ],
      "text/plain": [
       "               value\n",
       "name  type          \n",
       "train cer   0.052671\n",
       "      wer   0.235968\n",
       "val   cer   0.079784\n",
       "      wer   0.316895"
      ]
     },
     "execution_count": 8,
     "metadata": {},
     "output_type": "execute_result"
    }
   ],
   "source": [
    "df.groupby(['name', 'type']).mean()"
   ]
  },
  {
   "cell_type": "markdown",
   "metadata": {},
   "source": [
    "Reloading seems to work as this performance is roughly what I can observe in TenorBoard!\n",
    "\n",
    "Strangely, the `train` values change (both cer and wer) when re-executing but not the `val` values. Question: also when re-executing the cell? Re question: I have checked manually that the reason is `shuffle=True` in train `DataLoader`. However, I don't know why the order of the same samples should influence a metric that takes in all samples. Strange! But probably not relevant for now."
   ]
  },
  {
   "cell_type": "markdown",
   "metadata": {},
   "source": [
    "### Load data: From XournalPagewise"
   ]
  },
  {
   "cell_type": "markdown",
   "metadata": {},
   "source": [
    "This requires a custom built transform for the Dataset b/c one needs to use training alphabet!"
   ]
  },
  {
   "cell_type": "code",
   "execution_count": 9,
   "metadata": {},
   "outputs": [
    {
     "name": "stdout",
     "output_type": "stream",
     "text": [
      "Number of samples in dataset: 4\n"
     ]
    }
   ],
   "source": [
    "# GET STANDALONE DATASET\n",
    "\n",
    "# This is the one that I really want to use\n",
    "dataset = XournalPagewiseDataset(\n",
    "    Path('../data/datasets/2024-02-16-xournal_dataset.xoj'),\n",
    "    transform=None,\n",
    ")\n",
    "\n",
    "# # This is the one to validate my code; result: yes it works! Just uncomment this to test it\n",
    "# dataset = IAM_OnDB_Dataset(Path('../data/datasets/IAM-OnDB'), transform=None, limit=-1)\n",
    "\n",
    "print(f'Number of samples in dataset: {len(dataset)}')\n",
    "\n",
    "alphabet_inference = get_alphabet_from_dataset( dataset )\n",
    "for letter in alphabet_inference: # Confirm that there are no OOV letters\n",
    "    assert letter in alphabet\n",
    "\n",
    "transform = transforms.Compose([\n",
    "    SimpleNormalise(),\n",
    "    DictToTensor(['x', 'y', 'n']),\n",
    "    CharactersToIndices( alphabet ), # TODO: Why does it only work if CTI is last?\n",
    "])\n",
    "\n",
    "dataset.transform = transform\n",
    "\n",
    "# GET STANDALONE DATALOADER\n",
    "\n",
    "dl_inference = DataLoader(\n",
    "    dataset=dataset,\n",
    "    batch_size=64,\n",
    "    num_workers=4,\n",
    "    pin_memory=True,\n",
    "    shuffle=False,\n",
    "    collate_fn=my_collator,\n",
    ")"
   ]
  },
  {
   "cell_type": "markdown",
   "metadata": {},
   "source": [
    "### Do inference: XournalPagewise"
   ]
  },
  {
   "cell_type": "code",
   "execution_count": 10,
   "metadata": {},
   "outputs": [
    {
     "name": "stdout",
     "output_type": "stream",
     "text": [
      "\"I 1l Wicrdk!\" <> \"Hello World!\"\n",
      "\"Lind a\" <> \"Linda\"\n",
      "\"Martin\" <> \"Martin\"\n",
      "\"efuk\" <> \"fun\"\n"
     ]
    }
   ],
   "source": [
    "df_data = {\n",
    "    'name': [],\n",
    "    'type': [],\n",
    "    'value': [],\n",
    "}\n",
    "\n",
    "# for name, dloader in { 'train': dl_train_xp, 'val': dl_val_xp }.items():\n",
    "for name, dloader in { 'inference': dl_inference, }.items():\n",
    "    for sample_batched in dloader:\n",
    "        batch = sample_batched # Just a shortcut\n",
    "\n",
    "        with torch.no_grad():\n",
    "            log_softmax = model(sample_batched['ink'].to('cuda'))\n",
    "\n",
    "        decoded_texts = decoder(log_softmax, alphabet_mapper)\n",
    "\n",
    "        labels = batch['label_str']\n",
    "\n",
    "        for pred, truth in zip(decoded_texts, labels):\n",
    "            print(f'\"{pred}\" <> \"{truth}\"')\n",
    "\n",
    "        cer = char_error_rate(preds=decoded_texts, target=labels)\n",
    "        wer = word_error_rate(preds=decoded_texts, target=labels)\n",
    "\n",
    "        df_data['name'].append(name)\n",
    "        df_data['type'].append('cer')\n",
    "        df_data['value'].append(cer.item())\n",
    "\n",
    "        df_data['name'].append(name)\n",
    "        df_data['type'].append('wer')\n",
    "        df_data['value'].append(wer.item())\n",
    "\n",
    "df = pd.DataFrame.from_dict(df_data)"
   ]
  },
  {
   "cell_type": "code",
   "execution_count": 11,
   "metadata": {},
   "outputs": [
    {
     "data": {
      "text/html": [
       "<div>\n",
       "<style scoped>\n",
       "    .dataframe tbody tr th:only-of-type {\n",
       "        vertical-align: middle;\n",
       "    }\n",
       "\n",
       "    .dataframe tbody tr th {\n",
       "        vertical-align: top;\n",
       "    }\n",
       "\n",
       "    .dataframe thead th {\n",
       "        text-align: right;\n",
       "    }\n",
       "</style>\n",
       "<table border=\"1\" class=\"dataframe\">\n",
       "  <thead>\n",
       "    <tr style=\"text-align: right;\">\n",
       "      <th></th>\n",
       "      <th></th>\n",
       "      <th>value</th>\n",
       "    </tr>\n",
       "    <tr>\n",
       "      <th>name</th>\n",
       "      <th>type</th>\n",
       "      <th></th>\n",
       "    </tr>\n",
       "  </thead>\n",
       "  <tbody>\n",
       "    <tr>\n",
       "      <th rowspan=\"2\" valign=\"top\">inference</th>\n",
       "      <th>cer</th>\n",
       "      <td>0.423077</td>\n",
       "    </tr>\n",
       "    <tr>\n",
       "      <th>wer</th>\n",
       "      <td>1.200000</td>\n",
       "    </tr>\n",
       "  </tbody>\n",
       "</table>\n",
       "</div>"
      ],
      "text/plain": [
       "                   value\n",
       "name      type          \n",
       "inference cer   0.423077\n",
       "          wer   1.200000"
      ]
     },
     "execution_count": 11,
     "metadata": {},
     "output_type": "execute_result"
    }
   ],
   "source": [
    "df.groupby(['name', 'type']).mean()"
   ]
  },
  {
   "cell_type": "markdown",
   "metadata": {},
   "source": [
    "Both metrics improved a bit after using the correct (=training) alphabet.\n",
    "\n",
    "However, the WER is still very bad; with CER being surprisingly good.\n",
    "\n",
    "Nevertheless, I conclude that inference on my own written text in Xournal does **NOT** work!\n",
    "\n",
    "Note that I confirmed the code to work by plugging in the IAM-OnDB dataset here which leads to reproducing the metrics as provided in `train` and `val` results reported above."
   ]
  },
  {
   "cell_type": "markdown",
   "metadata": {},
   "source": [
    "## Hypothesis: The two datasets are very different and hence the performance on X++ is so bad"
   ]
  },
  {
   "cell_type": "markdown",
   "metadata": {},
   "source": [
    "Difference here means the input tensor as segment lengths."
   ]
  },
  {
   "cell_type": "markdown",
   "metadata": {},
   "source": [
    "Hence, investigate the lengths of the differences:"
   ]
  },
  {
   "cell_type": "code",
   "execution_count": 12,
   "metadata": {},
   "outputs": [],
   "source": [
    "def get_segment_lengths(dataloaders: list) -> list:\n",
    "    results = []\n",
    "\n",
    "    for dataloader in dataloaders:\n",
    "        for sample in dataloader:\n",
    "            batch_size = sample['ink'].shape[1]\n",
    "            for i_sample_in_batch in range(batch_size):\n",
    "                length = sample['ink_lengths'][i_sample_in_batch]\n",
    "                dx, dy = sample['ink'][:length, i_sample_in_batch, [0, 1]].T\n",
    "                segment_lengths = np.sqrt((dx**2 + dy**2))\n",
    "                results += segment_lengths.tolist()\n",
    "\n",
    "    return np.array(results)"
   ]
  },
  {
   "cell_type": "code",
   "execution_count": 13,
   "metadata": {},
   "outputs": [
    {
     "data": {
      "text/plain": [
       "(7651716, 1771)"
      ]
     },
     "execution_count": 13,
     "metadata": {},
     "output_type": "execute_result"
    }
   ],
   "source": [
    "segment_lengths_IAM = get_segment_lengths([dl_train, dl_val])\n",
    "segment_lengths_Xpp = get_segment_lengths([dl_inference,])\n",
    "\n",
    "len(segment_lengths_IAM), len(segment_lengths_Xpp)"
   ]
  },
  {
   "cell_type": "code",
   "execution_count": 14,
   "metadata": {},
   "outputs": [
    {
     "name": "stdout",
     "output_type": "stream",
     "text": [
      "0.03075740663339986 0.0582288076165338 0.8580945730209351 0.02013082057237625 0.10204081982374191\n",
      "0.04772649997899526 0.08719070655718521 6.154927730560303 0.03245917335152626 0.3021262019872666\n"
     ]
    }
   ],
   "source": [
    "for sl in [segment_lengths_Xpp, segment_lengths_IAM]:\n",
    "    print(sl.mean(), sl.std(), sl.max(), np.quantile(sl, 0.5), np.quantile(sl, 0.98))"
   ]
  },
  {
   "cell_type": "markdown",
   "metadata": {},
   "source": [
    "Remove outliers"
   ]
  },
  {
   "cell_type": "code",
   "execution_count": 15,
   "metadata": {},
   "outputs": [
    {
     "name": "stdout",
     "output_type": "stream",
     "text": [
      "0.02406824852955798 0.016340708112571448 0.10204081982374191 0.02013082057237625 0.06732454672455779\n",
      "0.037394472426955434 0.03228702894077389 0.3021261394023895 0.03190260007977486 0.11745930761098834\n"
     ]
    }
   ],
   "source": [
    "segment_lengths_IAM_filtered = segment_lengths_IAM[ segment_lengths_IAM <= np.quantile(segment_lengths_IAM, 0.98) ]\n",
    "segment_lengths_Xpp_filtered = segment_lengths_Xpp[ segment_lengths_Xpp <= np.quantile(segment_lengths_Xpp, 0.98) ]\n",
    "\n",
    "for sl in [segment_lengths_Xpp_filtered, segment_lengths_IAM_filtered]:\n",
    "    print(sl.mean(), sl.std(), sl.max(), np.quantile(sl, 0.5), np.quantile(sl, 0.98))"
   ]
  },
  {
   "cell_type": "code",
   "execution_count": 16,
   "metadata": {},
   "outputs": [
    {
     "data": {
      "image/png": "[encoded data removed]",
      "text/plain": [
       "<Figure size 640x480 with 1 Axes>"
      ]
     },
     "metadata": {},
     "output_type": "display_data"
    }
   ],
   "source": [
    "plt.figure()\n",
    "plt.violinplot([segment_lengths_IAM_filtered, segment_lengths_Xpp_filtered])\n",
    "plt.xticks(ticks=[1, 2], labels=['IAM filtered', 'Xpp filtered'])\n",
    "plt.show()"
   ]
  },
  {
   "cell_type": "markdown",
   "metadata": {},
   "source": [
    "The distributions do look quite different. This observation strenghtens my hypothesis that the segment lengths are just too different for the model to cope with.\n",
    "\n",
    "This, unfortunately, can only be solved by resampling, which requires a time channel.\n",
    "\n",
    "Next steps:\n",
    "- Get some test data with `draw_and_store_sample.py` and repeat the notebook above including time channel.\n",
    "- Also check if using full `Carbune2020` transform makes the two distributions (IAM and test data captured w/ script) equal b/c of linear resampling. This does not need any training, strictly speaking."
   ]
  }
 ],
 "metadata": {
  "kernelspec": {
   "display_name": "Python 3",
   "language": "python",
   "name": "python3"
  },
  "language_info": {
   "codemirror_mode": {
    "name": "ipython",
    "version": 3
   },
   "file_extension": ".py",
   "mimetype": "text/x-python",
   "name": "python",
   "nbconvert_exporter": "python",
   "pygments_lexer": "ipython3",
   "version": "3.10.11"
  }
 },
 "nbformat": 4,
 "nbformat_minor": 2
}
